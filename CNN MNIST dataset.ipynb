{
 "cells": [
  {
   "cell_type": "markdown",
   "id": "declared-houston",
   "metadata": {},
   "source": [
    "## Importing relevant libraries"
   ]
  },
  {
   "cell_type": "code",
   "execution_count": 1,
   "id": "lesbian-ceremony",
   "metadata": {},
   "outputs": [],
   "source": [
    "import numpy as np\n",
    "import tensorflow as tf\n",
    "import tensorflow_datasets as tfds"
   ]
  },
  {
   "cell_type": "markdown",
   "id": "specialized-consequence",
   "metadata": {},
   "source": [
    "## Importing dataset"
   ]
  },
  {
   "cell_type": "code",
   "execution_count": 2,
   "id": "constant-intranet",
   "metadata": {},
   "outputs": [],
   "source": [
    "mnist, mnist_info = tfds.load('mnist', as_supervised = True, with_info = True)"
   ]
  },
  {
   "cell_type": "code",
   "execution_count": 3,
   "id": "aggregate-spanking",
   "metadata": {},
   "outputs": [],
   "source": [
    "mnist_train, mnist_test = mnist['train'], mnist['test']"
   ]
  },
  {
   "cell_type": "markdown",
   "id": "sweet-rogers",
   "metadata": {},
   "source": [
    "## Defining number of valitation and test samples"
   ]
  },
  {
   "cell_type": "code",
   "execution_count": 4,
   "id": "behavioral-fantasy",
   "metadata": {},
   "outputs": [],
   "source": [
    "num_valid_samples = 0.1 * mnist_info.splits['train'].num_examples\n",
    "num_valid_samples = tf.cast(num_valid_samples, tf.int64)"
   ]
  },
  {
   "cell_type": "code",
   "execution_count": 5,
   "id": "acceptable-ownership",
   "metadata": {},
   "outputs": [],
   "source": [
    "num_test_samples = 0.1 * mnist_info.splits['test'].num_examples\n",
    "num_test_samples = tf.cast(num_test_samples, tf.int64)"
   ]
  },
  {
   "cell_type": "markdown",
   "id": "planned-customs",
   "metadata": {},
   "source": [
    "## Scaling the data"
   ]
  },
  {
   "cell_type": "code",
   "execution_count": 6,
   "id": "vulnerable-president",
   "metadata": {},
   "outputs": [],
   "source": [
    "def scale(image, label):\n",
    "    image = tf.cast(image, tf.float32)\n",
    "    image /= 255.\n",
    "    return (image, label)"
   ]
  },
  {
   "cell_type": "code",
   "execution_count": 7,
   "id": "steady-characterization",
   "metadata": {},
   "outputs": [],
   "source": [
    "scaled_train_and_valid = mnist_train.map(scale)"
   ]
  },
  {
   "cell_type": "code",
   "execution_count": 8,
   "id": "established-killing",
   "metadata": {},
   "outputs": [],
   "source": [
    "scaled_test = mnist_test.map(scale)"
   ]
  },
  {
   "cell_type": "markdown",
   "id": "removable-huntington",
   "metadata": {},
   "source": [
    "## Shuffeling the data"
   ]
  },
  {
   "cell_type": "code",
   "execution_count": 9,
   "id": "essential-sally",
   "metadata": {},
   "outputs": [],
   "source": [
    "BUFFER_SIZE = 15000\n",
    "\n",
    "shuffle_train_test = scaled_train_and_valid.shuffle(BUFFER_SIZE)"
   ]
  },
  {
   "cell_type": "code",
   "execution_count": 10,
   "id": "injured-andrew",
   "metadata": {},
   "outputs": [],
   "source": [
    "valid_data = shuffle_train_test.take(num_valid_samples)\n",
    "train_data = shuffle_train_test.skip(num_valid_samples)"
   ]
  },
  {
   "cell_type": "markdown",
   "id": "polished-tampa",
   "metadata": {},
   "source": [
    "## Batching the data"
   ]
  },
  {
   "cell_type": "code",
   "execution_count": 11,
   "id": "combined-three",
   "metadata": {},
   "outputs": [],
   "source": [
    "BATCH_SIZE = 100"
   ]
  },
  {
   "cell_type": "code",
   "execution_count": 12,
   "id": "silver-billy",
   "metadata": {},
   "outputs": [],
   "source": [
    "train_data = train_data.batch(BATCH_SIZE)\n",
    "valid_data = valid_data.batch(num_valid_samples)\n",
    "test_data = scaled_test.batch(num_test_samples)"
   ]
  },
  {
   "cell_type": "code",
   "execution_count": 13,
   "id": "social-arena",
   "metadata": {},
   "outputs": [],
   "source": [
    "validation_inputs, validation_targets = next(iter(valid_data))"
   ]
  },
  {
   "cell_type": "markdown",
   "id": "deluxe-underground",
   "metadata": {},
   "source": [
    "## Outlining the model"
   ]
  },
  {
   "cell_type": "code",
   "execution_count": 14,
   "id": "fifty-illness",
   "metadata": {},
   "outputs": [],
   "source": [
    "input_size = 784\n",
    "output_size = 10\n",
    "hidden_layer_size = 100\n",
    "\n",
    "\n",
    "\n",
    "model = tf.keras.Sequential([\n",
    "                            tf.keras.layers.Flatten(input_shape = (28,28,1)),\n",
    "                            tf.keras.layers.Dense(hidden_layer_size, activation = 'relu'),\n",
    "                            tf.keras.layers.Dense(hidden_layer_size, activation = 'relu'),\n",
    "                            tf.keras.layers.Dense(hidden_layer_size, activation = 'relu'),\n",
    "                            tf.keras.layers.Dense(output_size, 'softmax')\n",
    "                            ])"
   ]
  },
  {
   "cell_type": "code",
   "execution_count": 15,
   "id": "lovely-vitamin",
   "metadata": {},
   "outputs": [],
   "source": [
    "model.compile(optimizer = 'rmsprop', loss = 'sparse_categorical_crossentropy', metrics = ['accuracy'])"
   ]
  },
  {
   "cell_type": "markdown",
   "id": "advanced-premiere",
   "metadata": {},
   "source": [
    "## Training the model and validation test accuracy"
   ]
  },
  {
   "cell_type": "code",
   "execution_count": 16,
   "id": "educational-mills",
   "metadata": {
    "scrolled": true
   },
   "outputs": [
    {
     "name": "stdout",
     "output_type": "stream",
     "text": [
      "Epoch 1/6\n",
      "540/540 - 18s - loss: 0.3172 - accuracy: 0.9052 - val_loss: 0.0000e+00 - val_accuracy: 0.0000e+00\n",
      "Epoch 2/6\n",
      "540/540 - 13s - loss: 0.1302 - accuracy: 0.9604 - val_loss: 0.1175 - val_accuracy: 0.9662\n",
      "Epoch 3/6\n",
      "540/540 - 13s - loss: 0.0912 - accuracy: 0.9719 - val_loss: 0.0855 - val_accuracy: 0.9747\n",
      "Epoch 4/6\n",
      "540/540 - 13s - loss: 0.0726 - accuracy: 0.9773 - val_loss: 0.0848 - val_accuracy: 0.9755\n",
      "Epoch 5/6\n",
      "540/540 - 13s - loss: 0.0593 - accuracy: 0.9815 - val_loss: 0.0652 - val_accuracy: 0.9817\n",
      "Epoch 6/6\n",
      "540/540 - 13s - loss: 0.0479 - accuracy: 0.9854 - val_loss: 0.0507 - val_accuracy: 0.9852\n"
     ]
    },
    {
     "data": {
      "text/plain": [
       "<tensorflow.python.keras.callbacks.History at 0x1c09cbd3e48>"
      ]
     },
     "execution_count": 16,
     "metadata": {},
     "output_type": "execute_result"
    }
   ],
   "source": [
    "NUM_EPOCHS = 6\n",
    "\n",
    "\n",
    "model.fit(train_data, epochs = NUM_EPOCHS, validation_data = (validation_inputs, validation_targets),validation_steps = 1, verbose = 2)"
   ]
  },
  {
   "cell_type": "markdown",
   "id": "conceptual-constitutional",
   "metadata": {},
   "source": [
    "## Testing the model"
   ]
  },
  {
   "cell_type": "code",
   "execution_count": 17,
   "id": "renewable-framing",
   "metadata": {},
   "outputs": [
    {
     "name": "stdout",
     "output_type": "stream",
     "text": [
      "10/10 [==============================] - 3s 253ms/step - loss: 0.0879 - accuracy: 0.9755\n"
     ]
    }
   ],
   "source": [
    "test_loss, test_accuracy = model.evaluate(test_data)"
   ]
  },
  {
   "cell_type": "code",
   "execution_count": null,
   "id": "upset-spring",
   "metadata": {},
   "outputs": [],
   "source": []
  },
  {
   "cell_type": "code",
   "execution_count": null,
   "id": "coated-newspaper",
   "metadata": {},
   "outputs": [],
   "source": []
  }
 ],
 "metadata": {
  "kernelspec": {
   "display_name": "Python [conda env:py3-TF2.0]",
   "language": "python",
   "name": "conda-env-py3-TF2.0-py"
  },
  "language_info": {
   "codemirror_mode": {
    "name": "ipython",
    "version": 3
   },
   "file_extension": ".py",
   "mimetype": "text/x-python",
   "name": "python",
   "nbconvert_exporter": "python",
   "pygments_lexer": "ipython3",
   "version": "3.7.5"
  }
 },
 "nbformat": 4,
 "nbformat_minor": 5
}
