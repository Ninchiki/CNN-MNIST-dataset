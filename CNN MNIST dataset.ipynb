{
 "cells": [
  {
   "cell_type": "markdown",
   "id": "female-dryer",
   "metadata": {},
   "source": [
    "## Importing relevant libraries"
   ]
  },
  {
   "cell_type": "code",
   "execution_count": 1,
   "id": "built-rebate",
   "metadata": {},
   "outputs": [],
   "source": [
    "import numpy as np\n",
    "import tensorflow as tf\n",
    "import tensorflow_datasets as tfds"
   ]
  },
  {
   "cell_type": "markdown",
   "id": "distant-state",
   "metadata": {},
   "source": [
    "## Importing dataset"
   ]
  },
  {
   "cell_type": "code",
   "execution_count": 201,
   "id": "bulgarian-premises",
   "metadata": {},
   "outputs": [],
   "source": [
    "mnist, mnist_info = tfds.load('mnist', as_supervised = True, with_info = True)"
   ]
  },
  {
   "cell_type": "code",
   "execution_count": 202,
   "id": "beginning-lounge",
   "metadata": {},
   "outputs": [],
   "source": [
    "mnist_train, mnist_test = mnist['train'], mnist['test']"
   ]
  },
  {
   "cell_type": "markdown",
   "id": "declared-participation",
   "metadata": {},
   "source": [
    "## Defining number of valitation and test samples"
   ]
  },
  {
   "cell_type": "code",
   "execution_count": 203,
   "id": "dominican-packing",
   "metadata": {},
   "outputs": [],
   "source": [
    "num_valid_samples = 0.1 * mnist_info.splits['train'].num_examples\n",
    "num_valid_samples = tf.cast(num_valid_samples, tf.int64)"
   ]
  },
  {
   "cell_type": "code",
   "execution_count": 204,
   "id": "confused-intro",
   "metadata": {},
   "outputs": [],
   "source": [
    "num_test_samples = 0.1 * mnist_info.splits['test'].num_examples\n",
    "num_test_samples = tf.cast(num_test_samples, tf.int64)"
   ]
  },
  {
   "cell_type": "markdown",
   "id": "supported-petroleum",
   "metadata": {},
   "source": [
    "## Scaling the data"
   ]
  },
  {
   "cell_type": "code",
   "execution_count": 205,
   "id": "excited-network",
   "metadata": {},
   "outputs": [],
   "source": [
    "def scale(image, label):\n",
    "    image = tf.cast(image, tf.float32)\n",
    "    image /= 255.\n",
    "    return (image, label)"
   ]
  },
  {
   "cell_type": "code",
   "execution_count": 206,
   "id": "spread-scroll",
   "metadata": {},
   "outputs": [],
   "source": [
    "scaled_train_and_valid = mnist_train.map(scale)"
   ]
  },
  {
   "cell_type": "code",
   "execution_count": 207,
   "id": "surgical-indonesian",
   "metadata": {},
   "outputs": [],
   "source": [
    "scaled_test = mnist_test.map(scale)"
   ]
  },
  {
   "cell_type": "markdown",
   "id": "moderate-medicare",
   "metadata": {},
   "source": [
    "## Shuffeling the data"
   ]
  },
  {
   "cell_type": "code",
   "execution_count": 208,
   "id": "alternative-clinic",
   "metadata": {},
   "outputs": [],
   "source": [
    "BUFFER_SIZE = 10000\n",
    "\n",
    "shuffle_train_test = scaled_train_and_valid.shuffle(BUFFER_SIZE)"
   ]
  },
  {
   "cell_type": "code",
   "execution_count": 209,
   "id": "lesbian-consideration",
   "metadata": {},
   "outputs": [],
   "source": [
    "valid_data = shuffle_train_test.take(num_valid_samples)\n",
    "train_data = shuffle_train_test.skip(num_valid_samples)"
   ]
  },
  {
   "cell_type": "markdown",
   "id": "geographic-jewel",
   "metadata": {},
   "source": [
    "## Batching the data"
   ]
  },
  {
   "cell_type": "code",
   "execution_count": 210,
   "id": "young-facility",
   "metadata": {},
   "outputs": [],
   "source": [
    "BATCH_SIZE = 100"
   ]
  },
  {
   "cell_type": "code",
   "execution_count": 211,
   "id": "metallic-beach",
   "metadata": {},
   "outputs": [],
   "source": [
    "train_data = train_data.batch(BATCH_SIZE)\n",
    "valid_data = valid_data.batch(num_valid_samples)\n",
    "test_data = scaled_test.batch(num_test_samples)"
   ]
  },
  {
   "cell_type": "code",
   "execution_count": 212,
   "id": "higher-nursing",
   "metadata": {},
   "outputs": [],
   "source": [
    "validation_inputs, validation_targets = next(iter(valid_data))"
   ]
  },
  {
   "cell_type": "markdown",
   "id": "cardiac-floor",
   "metadata": {},
   "source": [
    "## Outlining the model"
   ]
  },
  {
   "cell_type": "code",
   "execution_count": 244,
   "id": "absolute-highway",
   "metadata": {},
   "outputs": [],
   "source": [
    "input_size = 784\n",
    "output_size = 10\n",
    "hidden_layer_size = 100\n",
    "\n",
    "\n",
    "\n",
    "model = tf.keras.Sequential([\n",
    "                            tf.keras.layers.Flatten(input_shape = (28,28,1)),\n",
    "                            tf.keras.layers.Dense(hidden_layer_size, activation = 'relu'),\n",
    "                            tf.keras.layers.Dense(hidden_layer_size, activation = 'relu'),\n",
    "                            tf.keras.layers.Dense(hidden_layer_size, activation = 'relu'),\n",
    "                            tf.keras.layers.Dense(output_size, 'softmax')\n",
    "                            ])"
   ]
  },
  {
   "cell_type": "code",
   "execution_count": 245,
   "id": "global-orlando",
   "metadata": {},
   "outputs": [],
   "source": [
    "model.compile(optimizer = 'rmsprop', loss = 'sparse_categorical_crossentropy', metrics = ['accuracy'])"
   ]
  },
  {
   "cell_type": "markdown",
   "id": "critical-remainder",
   "metadata": {},
   "source": [
    "## Training model"
   ]
  },
  {
   "cell_type": "code",
   "execution_count": 246,
   "id": "sixth-advocate",
   "metadata": {},
   "outputs": [
    {
     "name": "stdout",
     "output_type": "stream",
     "text": [
      "Epoch 1/10\n",
      "540/540 - 10s - loss: 0.3163 - accuracy: 0.9066 - val_loss: 0.0000e+00 - val_accuracy: 0.0000e+00\n",
      "Epoch 2/10\n",
      "540/540 - 8s - loss: 0.1318 - accuracy: 0.9597 - val_loss: 0.1163 - val_accuracy: 0.9665\n",
      "Epoch 3/10\n",
      "540/540 - 11s - loss: 0.0944 - accuracy: 0.9714 - val_loss: 0.0952 - val_accuracy: 0.9687\n",
      "Epoch 4/10\n",
      "540/540 - 9s - loss: 0.0724 - accuracy: 0.9779 - val_loss: 0.0899 - val_accuracy: 0.9737\n",
      "Epoch 5/10\n",
      "540/540 - 8s - loss: 0.0584 - accuracy: 0.9816 - val_loss: 0.0799 - val_accuracy: 0.9788\n",
      "Epoch 6/10\n",
      "540/540 - 8s - loss: 0.0507 - accuracy: 0.9846 - val_loss: 0.0539 - val_accuracy: 0.9847\n",
      "Epoch 7/10\n",
      "540/540 - 9s - loss: 0.0415 - accuracy: 0.9870 - val_loss: 0.0582 - val_accuracy: 0.9840\n",
      "Epoch 8/10\n",
      "540/540 - 8s - loss: 0.0352 - accuracy: 0.9891 - val_loss: 0.0514 - val_accuracy: 0.9853\n",
      "Epoch 9/10\n",
      "540/540 - 8s - loss: 0.0307 - accuracy: 0.9905 - val_loss: 0.0531 - val_accuracy: 0.9862\n",
      "Epoch 10/10\n",
      "540/540 - 8s - loss: 0.0253 - accuracy: 0.9921 - val_loss: 0.0394 - val_accuracy: 0.9902\n"
     ]
    },
    {
     "data": {
      "text/plain": [
       "<tensorflow.python.keras.callbacks.History at 0x25c16373d88>"
      ]
     },
     "execution_count": 246,
     "metadata": {},
     "output_type": "execute_result"
    }
   ],
   "source": [
    "NUM_EPOCHS = 10\n",
    "\n",
    "\n",
    "model.fit(train_data, epochs = NUM_EPOCHS, validation_data = (validation_inputs, validation_targets),validation_steps = 1, verbose = 2)"
   ]
  },
  {
   "cell_type": "code",
   "execution_count": 140,
   "id": "indirect-condition",
   "metadata": {},
   "outputs": [],
   "source": []
  },
  {
   "cell_type": "code",
   "execution_count": null,
   "id": "solid-efficiency",
   "metadata": {},
   "outputs": [],
   "source": []
  },
  {
   "cell_type": "code",
   "execution_count": null,
   "id": "declared-antenna",
   "metadata": {},
   "outputs": [],
   "source": []
  }
 ],
 "metadata": {
  "kernelspec": {
   "display_name": "Python [conda env:py3-TF2.0]",
   "language": "python",
   "name": "conda-env-py3-TF2.0-py"
  },
  "language_info": {
   "codemirror_mode": {
    "name": "ipython",
    "version": 3
   },
   "file_extension": ".py",
   "mimetype": "text/x-python",
   "name": "python",
   "nbconvert_exporter": "python",
   "pygments_lexer": "ipython3",
   "version": "3.7.5"
  }
 },
 "nbformat": 4,
 "nbformat_minor": 5
}
